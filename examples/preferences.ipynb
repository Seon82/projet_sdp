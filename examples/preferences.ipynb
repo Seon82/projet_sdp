{
 "cells": [
  {
   "cell_type": "markdown",
   "metadata": {},
   "source": [
    "### Préférences"
   ]
  },
  {
   "cell_type": "markdown",
   "metadata": {},
   "source": [
    "Ce module démontre l'usage de l'objet `Decider` implémenté dans le package."
   ]
  },
  {
   "cell_type": "code",
   "execution_count": 12,
   "metadata": {},
   "outputs": [],
   "source": [
    "from typing import Tuple\n",
    "import random\n",
    "import numpy as np\n",
    "from sklearn.linear_model import LogisticRegression\n",
    "from sklearn.metrics import classification_report\n",
    "\n",
    "from projet_sdp.generator import generate_random\n",
    "from projet_sdp.model import Model\n",
    "from projet_sdp.decider import Decider"
   ]
  },
  {
   "cell_type": "code",
   "execution_count": 2,
   "metadata": {},
   "outputs": [],
   "source": [
    "N = 5\n",
    "E = 3\n",
    "P = 3\n",
    "Q = 3"
   ]
  },
  {
   "cell_type": "code",
   "execution_count": 3,
   "metadata": {},
   "outputs": [],
   "source": [
    "def generate_dataset(number_of_instances: int) -> Tuple[int, int, int]:\n",
    "    for i in range(number_of_instances):\n",
    "\n",
    "        plan = generate_random(N=N, E=E, P=P, Q=Q)\n",
    "        m = Model(plan)\n",
    "\n",
    "        m.constraint_cant_work_more_than_needed()\n",
    "        m.constraint_cant_work_on_days_off()\n",
    "        m.constraint_no_qual_work()\n",
    "        m.constraint_one_project_per_day()\n",
    "        m.determine_affecte()\n",
    "        m.determine_debute()\n",
    "        m.determine_realise()\n",
    "\n",
    "        objectives = [m.objective_max_gain, m.objective_min_affecte, m.objective_min_length]\n",
    "        target_objective = random.choice(objectives)\n",
    "        target_objective()\n",
    "\n",
    "        m.update()\n",
    "        m.optimize(quiet=True)\n",
    "\n",
    "        yield np.array(m.objective_values())"
   ]
  },
  {
   "cell_type": "code",
   "execution_count": 4,
   "metadata": {},
   "outputs": [],
   "source": [
    "decider = Decider()"
   ]
  },
  {
   "cell_type": "code",
   "execution_count": 5,
   "metadata": {},
   "outputs": [],
   "source": [
    "TRAIN_SIZE = 1000\n",
    "TEST_SIZE = 1000"
   ]
  },
  {
   "cell_type": "code",
   "execution_count": 6,
   "metadata": {},
   "outputs": [
    {
     "name": "stdout",
     "output_type": "stream",
     "text": [
      "Set parameter Username\n",
      "Academic license - for non-commercial use only - expires 2024-01-05\n",
      "(1000, 3) (1000,)\n",
      "(1000, 3) (1000,)\n"
     ]
    }
   ],
   "source": [
    "X_train, X_test = list(generate_dataset(TRAIN_SIZE)), list(generate_dataset(TEST_SIZE))\n",
    "Y_train, Y_test = list(map(lambda x: decider.decide(x), X_train)), list(map(lambda x: decider.decide(x), X_test))\n",
    "\n",
    "X_train = np.array(X_train)\n",
    "X_test = np.array(X_test)\n",
    "Y_train = np.array(Y_train)\n",
    "Y_test = np.array(Y_test)\n",
    "\n",
    "print(X_train.shape, Y_train.shape)\n",
    "print(X_test.shape, Y_test.shape)"
   ]
  },
  {
   "cell_type": "code",
   "execution_count": 7,
   "metadata": {},
   "outputs": [
    {
     "name": "stdout",
     "output_type": "stream",
     "text": [
      "112 of 1000 pass\n"
     ]
    }
   ],
   "source": [
    "print(np.count_nonzero(Y_train), \"of\", TRAIN_SIZE, \"pass\")"
   ]
  },
  {
   "cell_type": "code",
   "execution_count": 8,
   "metadata": {},
   "outputs": [],
   "source": [
    "model = LogisticRegression()\n",
    "model = model.fit(X_train, Y_train)"
   ]
  },
  {
   "cell_type": "code",
   "execution_count": 9,
   "metadata": {},
   "outputs": [],
   "source": [
    "Y_pred = model.predict(X_test)"
   ]
  },
  {
   "cell_type": "code",
   "execution_count": 10,
   "metadata": {},
   "outputs": [
    {
     "name": "stdout",
     "output_type": "stream",
     "text": [
      "              precision    recall  f1-score   support\n",
      "\n",
      "       False       1.00      1.00      1.00       898\n",
      "        True       1.00      0.99      1.00       102\n",
      "\n",
      "    accuracy                           1.00      1000\n",
      "   macro avg       1.00      1.00      1.00      1000\n",
      "weighted avg       1.00      1.00      1.00      1000\n",
      "\n"
     ]
    }
   ],
   "source": [
    "print(classification_report(Y_test, Y_pred))"
   ]
  }
 ],
 "metadata": {
  "kernelspec": {
   "display_name": "Python 3 (ipykernel)",
   "language": "python",
   "name": "python3"
  },
  "language_info": {
   "codemirror_mode": {
    "name": "ipython",
    "version": 3
   },
   "file_extension": ".py",
   "mimetype": "text/x-python",
   "name": "python",
   "nbconvert_exporter": "python",
   "pygments_lexer": "ipython3",
   "version": "3.10.9"
  },
  "vscode": {
   "interpreter": {
    "hash": "1871aca225827c687c5c46c29189cef17de9f33bb1053720d1aecb57956bd6bb"
   }
  }
 },
 "nbformat": 4,
 "nbformat_minor": 2
}
