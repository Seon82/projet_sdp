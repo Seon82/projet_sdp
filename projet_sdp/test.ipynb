{
 "cells": [
  {
   "cell_type": "code",
   "execution_count": 13,
   "metadata": {},
   "outputs": [
    {
     "name": "stdout",
     "output_type": "stream",
     "text": [
      "The autoreload extension is already loaded. To reload it, use:\n",
      "  %reload_ext autoreload\n"
     ]
    }
   ],
   "source": [
    "%load_ext autoreload\n",
    "%autoreload 2\n",
    "\n",
    "from loader import Data, load_data_from_json\n",
    "import numpy as np\n",
    "\n",
    "import pandas as pd\n",
    "from model import Model"
   ]
  },
  {
   "cell_type": "code",
   "execution_count": 14,
   "metadata": {},
   "outputs": [],
   "source": [
    "data: Data = load_data_from_json(\"../data/test.json\")"
   ]
  },
  {
   "cell_type": "code",
   "execution_count": 15,
   "metadata": {},
   "outputs": [
    {
     "name": "stdout",
     "output_type": "stream",
     "text": [
      "Data(N=5, E=1, Q=1, P=1, _qualifications=[[0]], _conges=[[]], _duree=[[7]], _gain=[20], _due_date=[2], _penalty=[3], _employees_names=['Olivia'], _qualifications_names=['A'], _projects_names=['Job1'], M=10000000.0)\n"
     ]
    }
   ],
   "source": [
    "print(data)"
   ]
  },
  {
   "cell_type": "code",
   "execution_count": 16,
   "metadata": {},
   "outputs": [],
   "source": [
    "m = Model(data)"
   ]
  },
  {
   "cell_type": "code",
   "execution_count": 17,
   "metadata": {},
   "outputs": [],
   "source": [
    "m.constraint_cant_work_more_than_needed()\n",
    "m.constraint_cant_work_on_days_off()\n",
    "m.constraint_no_qual_work()\n",
    "m.constraint_one_project_per_day()"
   ]
  },
  {
   "cell_type": "code",
   "execution_count": 18,
   "metadata": {},
   "outputs": [],
   "source": [
    "m.determine_affecte()\n",
    "m.determine_debute()\n",
    "m.determine_realise()"
   ]
  },
  {
   "cell_type": "code",
   "execution_count": 19,
   "metadata": {},
   "outputs": [],
   "source": [
    "m.objective_max_gain()"
   ]
  },
  {
   "cell_type": "code",
   "execution_count": 20,
   "metadata": {},
   "outputs": [],
   "source": [
    "m.update()"
   ]
  },
  {
   "cell_type": "code",
   "execution_count": 21,
   "metadata": {},
   "outputs": [
    {
     "name": "stdout",
     "output_type": "stream",
     "text": [
      "Gurobi Optimizer version 10.0.0 build v10.0.0rc2 (win64)\n",
      "\n",
      "CPU model: AMD Ryzen 7 4700U with Radeon Graphics, instruction set [SSE2|AVX|AVX2]\n",
      "Thread count: 8 physical cores, 8 logical processors, using up to 8 threads\n",
      "\n",
      "Optimize a model with 18 rows, 17 columns and 57 nonzeros\n",
      "Model fingerprint: 0x6039af3a\n",
      "Variable types: 0 continuous, 17 integer (17 binary)\n",
      "Coefficient statistics:\n",
      "  Matrix range     [1e+00, 1e+07]\n",
      "  Objective range  [3e+00, 2e+01]\n",
      "  Bounds range     [1e+00, 1e+00]\n",
      "  RHS range        [1e+00, 1e+07]\n",
      "Found heuristic solution: objective -6.0000000\n",
      "Presolve removed 18 rows and 17 columns\n",
      "Presolve time: 0.00s\n",
      "Presolve: All rows and columns removed\n",
      "\n",
      "Explored 0 nodes (0 simplex iterations) in 0.01 seconds (0.00 work units)\n",
      "Thread count was 1 (of 8 available processors)\n",
      "\n",
      "Solution count 1: -6 \n",
      "No other solutions better than -6\n",
      "\n",
      "Optimal solution found (tolerance 1.00e-04)\n",
      "Best objective -6.000000000000e+00, best bound -6.000000000000e+00, gap 0.0000%\n"
     ]
    }
   ],
   "source": [
    "m.optimize()"
   ]
  },
  {
   "cell_type": "code",
   "execution_count": 22,
   "metadata": {},
   "outputs": [],
   "source": [
    "def get_completion_day(p):\n",
    "    for j in range(m.data.N):\n",
    "        if m.realise(p, j).X == 1:\n",
    "            return j - 1\n",
    "    return None\n",
    "\n",
    "\n",
    "def get_work(p):\n",
    "    df = pd.DataFrame()\n",
    "    for e in range(m.data.E):\n",
    "        work_done = []\n",
    "        for j in range(m.data.N):\n",
    "            work = []\n",
    "            for q in range(m.data.Q):\n",
    "                work.append(m.projet(e, j, p, q).X)\n",
    "            has_worked = 1 in work\n",
    "            if not has_worked:\n",
    "                if j in m.data.conges(e):\n",
    "                    work_done.append(\"X\")\n",
    "                else:\n",
    "                    work_done.append(\" \")\n",
    "            else:\n",
    "                work = np.argmax(work)\n",
    "                work = m.data.qualification_name(work)\n",
    "                work_done.append(work)\n",
    "        df[m.data.employee_name(e)] = work_done\n",
    "\n",
    "    due = []\n",
    "    for j in range(m.data.N):\n",
    "        if j == m.data.due_date(p):\n",
    "            due.append(\"X\")\n",
    "        else:\n",
    "            due.append(\"\")\n",
    "\n",
    "    completed = []\n",
    "    completion_day = get_completion_day(p)\n",
    "    for j in range(m.data.N):\n",
    "        if j == completion_day:\n",
    "            completed.append(\"X\")\n",
    "        else:\n",
    "            completed.append(\"\")\n",
    "\n",
    "    df[\"Due_Date\"] = due\n",
    "    df[\"Completed\"] = completed\n",
    "\n",
    "    return df"
   ]
  },
  {
   "cell_type": "code",
   "execution_count": 23,
   "metadata": {},
   "outputs": [
    {
     "name": "stdout",
     "output_type": "stream",
     "text": [
      "Work on Job1 [('A', 7)]\n",
      "  Olivia Due_Date Completed\n",
      "0      A                   \n",
      "1      A                   \n",
      "2      A        X          \n",
      "3      A                   \n",
      "4      A                   \n",
      "Project not completed\n",
      "Project late 2 day, lost 3\n",
      "Total gain -3\n",
      "\n",
      "-6.0\n"
     ]
    }
   ],
   "source": [
    "for p in range(m.data.P):\n",
    "    qualis = []\n",
    "    for q in range(m.data.Q):\n",
    "        qualis.append((m.data.qualification_name(q), m.data.duree(p, q)))\n",
    "    print(\"Work on\", m.data.projet_name(p), qualis)\n",
    "    print(get_work(p))\n",
    "    completion_day = get_completion_day(p)\n",
    "    if completion_day != None:\n",
    "        print(\"Project completed, gained\", m.data.gain(p))\n",
    "        if m.data.due_date(p) < completion_day:\n",
    "            print(\"Project late\", completion_day - m.data.due_date(p), \"day, lost\", m.data.penalite(p, completion_day))\n",
    "        print(\"Total gain\", m.data.gain(p) - m.data.penalite(p, completion_day))\n",
    "    else:\n",
    "        print(\"Project not completed\")\n",
    "        print(\"Project late\", m.data.N - 1 - m.data.due_date(p), \"day, lost\", m.data.penalite(p, m.data.N - 1))\n",
    "        print(\"Total gain\", -m.data.penalite(p, m.data.N - 1))\n",
    "\n",
    "    print()\n",
    "\n",
    "print(m.model.ObjVal)"
   ]
  },
  {
   "cell_type": "code",
   "execution_count": 24,
   "metadata": {},
   "outputs": [
    {
     "name": "stdout",
     "output_type": "stream",
     "text": [
      "[<gurobi.Var [PROJET]employe:Olivia_projet:Job1_qual:A_jour:0 (value 1.0)>, <gurobi.Var [PROJET]employe:Olivia_projet:Job1_qual:A_jour:1 (value 1.0)>, <gurobi.Var [PROJET]employe:Olivia_projet:Job1_qual:A_jour:2 (value 1.0)>, <gurobi.Var [PROJET]employe:Olivia_projet:Job1_qual:A_jour:3 (value 1.0)>, <gurobi.Var [PROJET]employe:Olivia_projet:Job1_qual:A_jour:4 (value 1.0)>, <gurobi.Var [Realise]projet:Job1_jour:0 (value 0.0)>, <gurobi.Var [Realise]projet:Job1_jour:1 (value 0.0)>, <gurobi.Var [Realise]projet:Job1_jour:2 (value 0.0)>, <gurobi.Var [Realise]projet:Job1_jour:3 (value 0.0)>, <gurobi.Var [Realise]projet:Job1_jour:4 (value 0.0)>, <gurobi.Var [Realise]projet:Job1_jour:5 (value 0.0)>, <gurobi.Var [Affecte]employe:Olivia_projet:Job1 (value 1.0)>, <gurobi.Var [Debute]projet:Job1_jour:0 (value 1.0)>, <gurobi.Var [Debute]projet:Job1_jour:1 (value 1.0)>, <gurobi.Var [Debute]projet:Job1_jour:2 (value 1.0)>, <gurobi.Var [Debute]projet:Job1_jour:3 (value 1.0)>, <gurobi.Var [Debute]projet:Job1_jour:4 (value 1.0)>]\n"
     ]
    }
   ],
   "source": [
    "print(m.model.getVars())"
   ]
  }
 ],
 "metadata": {
  "kernelspec": {
   "display_name": "sdp",
   "language": "python",
   "name": "python3"
  },
  "language_info": {
   "codemirror_mode": {
    "name": "ipython",
    "version": 3
   },
   "file_extension": ".py",
   "mimetype": "text/x-python",
   "name": "python",
   "nbconvert_exporter": "python",
   "pygments_lexer": "ipython3",
   "version": "3.10.8"
  },
  "orig_nbformat": 4,
  "vscode": {
   "interpreter": {
    "hash": "1871aca225827c687c5c46c29189cef17de9f33bb1053720d1aecb57956bd6bb"
   }
  }
 },
 "nbformat": 4,
 "nbformat_minor": 2
}
