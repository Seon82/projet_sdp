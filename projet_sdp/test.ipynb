{
 "cells": [
  {
   "cell_type": "code",
   "execution_count": 994,
   "metadata": {},
   "outputs": [
    {
     "name": "stdout",
     "output_type": "stream",
     "text": [
      "The autoreload extension is already loaded. To reload it, use:\n",
      "  %reload_ext autoreload\n"
     ]
    }
   ],
   "source": [
    "%load_ext autoreload\n",
    "%autoreload 2\n",
    "\n",
    "from loader import Data, load_data_from_json\n",
    "import numpy as np\n",
    "\n",
    "import pandas as pd\n",
    "from model import Model"
   ]
  },
  {
   "cell_type": "code",
   "execution_count": 995,
   "metadata": {},
   "outputs": [],
   "source": [
    "data: Data = load_data_from_json(\"../data/test.json\")"
   ]
  },
  {
   "cell_type": "code",
   "execution_count": 996,
   "metadata": {},
   "outputs": [
    {
     "name": "stdout",
     "output_type": "stream",
     "text": [
      "Data(N=3, E=2, Q=1, P=1, _qualifications=[[0], [0]], _conges=[[], [0]], _duree=[[2]], _gain=[20], _due_date=[2], _penalty=[3], _employees_names=['Olivia', 'Liam'], _qualifications_names=['A'], _projects_names=['Job1'], M=10000000.0)\n"
     ]
    }
   ],
   "source": [
    "print(data)"
   ]
  },
  {
   "cell_type": "code",
   "execution_count": 997,
   "metadata": {},
   "outputs": [],
   "source": [
    "m = Model(data)"
   ]
  },
  {
   "cell_type": "code",
   "execution_count": 998,
   "metadata": {},
   "outputs": [],
   "source": [
    "m.constraint_cant_work_more_than_needed()\n",
    "m.constraint_cant_work_on_days_off()\n",
    "m.constraint_no_qual_work()\n",
    "m.constraint_one_project_per_day()"
   ]
  },
  {
   "cell_type": "code",
   "execution_count": 999,
   "metadata": {},
   "outputs": [],
   "source": [
    "m.determine_affecte()\n",
    "m.determine_debute()\n",
    "m.determine_realise()"
   ]
  },
  {
   "cell_type": "code",
   "execution_count": 1000,
   "metadata": {},
   "outputs": [],
   "source": [
    "m.objective_max_gain()"
   ]
  },
  {
   "cell_type": "code",
   "execution_count": 1001,
   "metadata": {},
   "outputs": [],
   "source": [
    "m.update()"
   ]
  },
  {
   "cell_type": "code",
   "execution_count": 1002,
   "metadata": {},
   "outputs": [
    {
     "name": "stdout",
     "output_type": "stream",
     "text": [
      "Gurobi Optimizer version 10.0.0 build v10.0.0rc2 (win64)\n",
      "\n",
      "CPU model: AMD Ryzen 7 4700U with Radeon Graphics, instruction set [SSE2|AVX|AVX2]\n",
      "Thread count: 8 physical cores, 8 logical processors, using up to 8 threads\n",
      "\n",
      "Optimize a model with 16 rows, 14 columns and 51 nonzeros\n",
      "Model fingerprint: 0x48e9fd8d\n",
      "Variable types: 0 continuous, 14 integer (14 binary)\n",
      "Coefficient statistics:\n",
      "  Matrix range     [1e+00, 1e+07]\n",
      "  Objective range  [2e+01, 2e+01]\n",
      "  Bounds range     [1e+00, 1e+00]\n",
      "  RHS range        [1e+00, 1e+07]\n",
      "Found heuristic solution: objective -0.0000000\n",
      "Presolve removed 16 rows and 14 columns\n",
      "Presolve time: 0.00s\n",
      "Presolve: All rows and columns removed\n",
      "\n",
      "Explored 0 nodes (0 simplex iterations) in 0.01 seconds (0.00 work units)\n",
      "Thread count was 1 (of 8 available processors)\n",
      "\n",
      "Solution count 2: 20 -0 \n",
      "\n",
      "Optimal solution found (tolerance 1.00e-04)\n",
      "Best objective 2.000000000000e+01, best bound 2.000000000000e+01, gap 0.0000%\n"
     ]
    }
   ],
   "source": [
    "m.optimize()\n"
   ]
  },
  {
   "cell_type": "code",
   "execution_count": 1003,
   "metadata": {},
   "outputs": [],
   "source": [
    "def get_completion_day(p):\n",
    "    for j in range(m.data.N):\n",
    "        if(m.realise(p, j).X == 1):\n",
    "            return j\n",
    "    return None\n",
    "\n",
    "def get_work(p):\n",
    "    df = pd.DataFrame()\n",
    "    for e in range(m.data.E):\n",
    "        work_done = []\n",
    "        for j in range(m.data.N):\n",
    "            work = []\n",
    "            for q in range(m.data.Q):\n",
    "                work.append(m.projet(e, j, p, q).X)\n",
    "            has_worked = 1 in work\n",
    "            if(not has_worked):\n",
    "                if j in m.data.conges(e):\n",
    "                    work_done.append(\"X\")\n",
    "                else:\n",
    "                    work_done.append(\" \")\n",
    "            else:\n",
    "                work = np.argmax(work)\n",
    "                work = m.data.qualification_name(work)\n",
    "                work_done.append(work)\n",
    "        df[m.data.employee_name(e)] = work_done\n",
    "\n",
    "    due = []\n",
    "    for j in range(m.data.N):\n",
    "        if(j == m.data.due_date(p)): due.append(\"X\")\n",
    "        else: due.append(\"\")\n",
    "    \n",
    "    completed = []\n",
    "    completion_day = get_completion_day(p)\n",
    "    for j in range(m.data.N):\n",
    "        if(j == completion_day): completed.append(\"X\")\n",
    "        else: completed.append(\"\")\n",
    "\n",
    "    df[\"Due_Date\"] = due\n",
    "    df[\"Completed\"] = completed\n",
    "    \n",
    "    return df\n",
    "    "
   ]
  },
  {
   "cell_type": "code",
   "execution_count": 1004,
   "metadata": {},
   "outputs": [
    {
     "name": "stdout",
     "output_type": "stream",
     "text": [
      "Work on Job1 [('A', 2)]\n",
      "  Olivia Liam Due_Date Completed\n",
      "0      A    X                   \n",
      "1      A                        \n",
      "2                    X         X\n",
      "Project completed, gained 20\n",
      "Total gain 20\n",
      "\n"
     ]
    }
   ],
   "source": [
    "for p in range(m.data.P):\n",
    "    qualis = []\n",
    "    for q in range(m.data.Q):\n",
    "        qualis.append((m.data.qualification_name(q), m.data.duree(p, q)))\n",
    "    print(\"Work on\", m.data.projet_name(p), qualis)\n",
    "    print(get_work(p))\n",
    "    completion_day = get_completion_day(p)\n",
    "    if(completion_day != None):\n",
    "        print(\"Project completed, gained\", m.data.gain(p))\n",
    "        if(m.data.due_date(p) < completion_day):\n",
    "            print(\"Project late\", completion_day - m.data.due_date(p), \"day, lost\", m.data.penalite(p, completion_day))\n",
    "        print(\"Total gain\", m.data.gain(p) - m.data.penalite(p, completion_day))\n",
    "    else:\n",
    "        print(\"Project not completed\")\n",
    "        print(\"Project late\", m.data.N - 1 - m.data.due_date(p), \"day, lost\", m.data.penalite(p, m.data.N - 1))\n",
    "        print(\"Total gain\", -m.data.penalite(p, m.data.N - 1))\n",
    "\n",
    "    print()\n",
    "\n"
   ]
  },
  {
   "cell_type": "code",
   "execution_count": 1005,
   "metadata": {},
   "outputs": [
    {
     "name": "stdout",
     "output_type": "stream",
     "text": [
      "2 2.0 0.0\n"
     ]
    }
   ],
   "source": [
    "# print(m._realise)\n",
    "\n",
    "# print(m.data.duree(0, 0))\n",
    "# for j in range(2):\n",
    "#     print(m.projet(0,j,0,0))\n",
    "\n",
    "# print(m.realise(0, 1))\n",
    "\n",
    "j = 1\n",
    "\n",
    "sum_duree = m.data.duree(p, q)\n",
    "sum_projet = sum(\n",
    "    m.projet(0, j_prime, 0, 0).X\n",
    "    for j_prime in range(j + 1)\n",
    ")\n",
    "\n",
    "print(sum_duree, sum_projet, m.realise(0, j).X)\n"
   ]
  },
  {
   "cell_type": "code",
   "execution_count": 1006,
   "metadata": {},
   "outputs": [],
   "source": [
    "# 2 - 2 <= (1 - 0)"
   ]
  }
 ],
 "metadata": {
  "kernelspec": {
   "display_name": "base",
   "language": "python",
   "name": "python3"
  },
  "language_info": {
   "codemirror_mode": {
    "name": "ipython",
    "version": 3
   },
   "file_extension": ".py",
   "mimetype": "text/x-python",
   "name": "python",
   "nbconvert_exporter": "python",
   "pygments_lexer": "ipython3",
   "version": "3.8.13"
  },
  "orig_nbformat": 4,
  "vscode": {
   "interpreter": {
    "hash": "0c4536df94c357b195c8931d0dab0325a1579c88397223b74d0d926f9a9129e8"
   }
  }
 },
 "nbformat": 4,
 "nbformat_minor": 2
}
