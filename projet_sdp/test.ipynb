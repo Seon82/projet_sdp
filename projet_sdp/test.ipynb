{
   "cells": [
      {
         "cell_type": "code",
         "execution_count": null,
         "metadata": {},
         "outputs": [],
         "source": [
            "%load_ext autoreload\n",
            "%autoreload 2\n",
            "\n",
            "import numpy as np\n",
            "import matplotlib.pyplot as plt\n",
            "import pandas as pd\n",
            "\n",
            "from projet_sdp.model import Model\n",
            "from projet_sdp.loader import Data, load_data_from_json\n",
            "from projet_sdp.generator import generate_random\n",
            "from projet_sdp.ploter import Ploter"
         ]
      },
      {
         "cell_type": "code",
         "execution_count": null,
         "metadata": {},
         "outputs": [],
         "source": [
            "# data: Data = load_data_from_json(\"../data/toy_instance.json\")\n",
            "data: Data = generate_random(5, 3, 3, 3)"
         ]
      },
      {
         "cell_type": "code",
         "execution_count": null,
         "metadata": {},
         "outputs": [],
         "source": [
            "print(data)"
         ]
      },
      {
         "cell_type": "code",
         "execution_count": null,
         "metadata": {},
         "outputs": [],
         "source": [
            "m = Model(data)"
         ]
      },
      {
         "cell_type": "code",
         "execution_count": null,
         "metadata": {},
         "outputs": [],
         "source": [
            "m.constraint_cant_work_more_than_needed()\n",
            "m.constraint_cant_work_on_days_off()\n",
            "m.constraint_no_qual_work()\n",
            "m.constraint_one_project_per_day()"
         ]
      },
      {
         "cell_type": "code",
         "execution_count": null,
         "metadata": {},
         "outputs": [],
         "source": [
            "m.determine_affecte()\n",
            "m.determine_debute()\n",
            "m.determine_realise()"
         ]
      },
      {
         "cell_type": "code",
         "execution_count": null,
         "metadata": {},
         "outputs": [],
         "source": [
            "m.objective_max_gain()"
         ]
      },
      {
         "cell_type": "code",
         "execution_count": null,
         "metadata": {},
         "outputs": [],
         "source": [
            "m.update()"
         ]
      },
      {
         "cell_type": "code",
         "execution_count": null,
         "metadata": {},
         "outputs": [],
         "source": [
            "m.optimize()"
         ]
      },
      {
         "cell_type": "code",
         "execution_count": null,
         "metadata": {},
         "outputs": [],
         "source": [
            "def get_completion_day(p):\n",
            "    for j in range(m.data.N):\n",
            "        if m.realise(p, j).X == 1:\n",
            "            return j - 1\n",
            "    return None\n",
            "\n",
            "\n",
            "def get_work(p):\n",
            "    df = pd.DataFrame()\n",
            "    for e in range(m.data.E):\n",
            "        work_done = []\n",
            "        for j in range(m.data.N):\n",
            "            work = []\n",
            "            for q in range(m.data.Q):\n",
            "                work.append(m.projet(e, j, p, q).X)\n",
            "            has_worked = 1 in work\n",
            "            if not has_worked:\n",
            "                if j in m.data.conges(e):\n",
            "                    work_done.append(\"X\")\n",
            "                else:\n",
            "                    work_done.append(\" \")\n",
            "            else:\n",
            "                work = np.argmax(work)\n",
            "                work = m.data.qualification_name(work)\n",
            "                work_done.append(work)\n",
            "        df[m.data.employee_name(e)] = work_done\n",
            "\n",
            "    due = []\n",
            "    for j in range(m.data.N):\n",
            "        if j == m.data.due_date(p):\n",
            "            due.append(\"X\")\n",
            "        else:\n",
            "            due.append(\"\")\n",
            "\n",
            "    completed = []\n",
            "    completion_day = get_completion_day(p)\n",
            "    for j in range(m.data.N):\n",
            "        if j == completion_day:\n",
            "            completed.append(\"X\")\n",
            "        else:\n",
            "            completed.append(\"\")\n",
            "\n",
            "    df[\"Due_Date\"] = due\n",
            "    df[\"Completed\"] = completed\n",
            "\n",
            "    return df"
         ]
      },
      {
         "cell_type": "code",
         "execution_count": null,
         "metadata": {},
         "outputs": [],
         "source": [
            "for p in range(m.data.P):\n",
            "    qualis = []\n",
            "    for q in range(m.data.Q):\n",
            "        qualis.append((m.data.qualification_name(q), m.data.duree(p, q)))\n",
            "    print(\"Work on\", m.data.projet_name(p), qualis)\n",
            "    print(get_work(p))\n",
            "    completion_day = get_completion_day(p)\n",
            "    if completion_day != None:\n",
            "        print(\"Project completed, gained\", m.data.gain(p))\n",
            "        if m.data.due_date(p) < completion_day:\n",
            "            print(\"Project late\", completion_day - m.data.due_date(p), \"day, lost\", m.data.penalite(p, completion_day))\n",
            "        print(\"Total gain\", m.data.gain(p) - m.data.penalite(p, completion_day))\n",
            "    else:\n",
            "        print(\"Project not completed\")\n",
            "        print(\"Project late\", m.data.N - 1 - m.data.due_date(p), \"day, lost\", m.data.penalite(p, m.data.N - 1))\n",
            "        print(\"Total gain\", -m.data.penalite(p, m.data.N - 1))\n",
            "\n",
            "    print()\n",
            "\n",
            "print(m.model.ObjVal)"
         ]
      },
      {
         "cell_type": "code",
         "execution_count": null,
         "metadata": {},
         "outputs": [],
         "source": [
            "# P: number of projects      -> p\n",
            "# E: number of employees     -> e\n",
            "# N: number of days          -> j\n",
            "# Q: number of qualification -> q\n",
            "print(m.data.N)"
         ]
      },
      {
         "cell_type": "code",
         "execution_count": null,
         "metadata": {},
         "outputs": [],
         "source": [
            "plot: Ploter = Ploter(m)\n",
            "\n",
            "plot.gantt_projects()"
         ]
      },
      {
         "cell_type": "code",
         "execution_count": null,
         "metadata": {},
         "outputs": [],
         "source": [
            "plot.gantt_employees()"
         ]
      }
   ],
   "metadata": {
      "kernelspec": {
         "display_name": "Python 3 (ipykernel)",
         "language": "python",
         "name": "python3"
      },
      "language_info": {
         "codemirror_mode": {
            "name": "ipython",
            "version": 3
         },
         "file_extension": ".py",
         "mimetype": "text/x-python",
         "name": "python",
         "nbconvert_exporter": "python",
         "pygments_lexer": "ipython3",
         "version": "3.10.9"
      },
      "vscode": {
         "interpreter": {
            "hash": "0c4536df94c357b195c8931d0dab0325a1579c88397223b74d0d926f9a9129e8"
         }
      }
   },
   "nbformat": 4,
   "nbformat_minor": 2
}
